{
 "cells": [
  {
   "cell_type": "code",
   "execution_count": 23,
   "metadata": {
    "_cell_guid": "b1076dfc-b9ad-4769-8c92-a6c4dae69d19",
    "_uuid": "8f2839f25d086af736a60e9eeb907d3b93b6e0e5",
    "execution": {
     "iopub.execute_input": "2022-06-27T17:21:55.008391Z",
     "iopub.status.busy": "2022-06-27T17:21:55.007932Z",
     "iopub.status.idle": "2022-06-27T17:21:55.016536Z",
     "shell.execute_reply": "2022-06-27T17:21:55.015804Z",
     "shell.execute_reply.started": "2022-06-27T17:21:55.008357Z"
    }
   },
   "outputs": [],
   "source": [
    "# This Python 3 environment comes with many helpful analytics libraries installed\n",
    "# It is defined by the kaggle/python Docker image: https://github.com/kaggle/docker-python\n",
    "# For example, here's several helpful packages to load\n",
    "\n",
    "import numpy as np # linear algebra\n",
    "import pandas as pd # data processing, CSV file I/O (e.g. pd.read_csv)cmd\n",
    "from collections import Counter\n",
    "from sklearn import tree\n",
    "from sklearn.metrics import confusion_matrix,classification_report,accuracy_score\n",
    "from sklearn.ensemble import RandomForestClassifier\n",
    "from sklearn.model_selection import train_test_split\n",
    "from sklearn.linear_model import LogisticRegression\n",
    "from sklearn.svm import SVC\n",
    "from imblearn.combine import SMOTETomek\n",
    "from imblearn import over_sampling,under_sampling\n",
    "# Input data files are available in the read-only \"../input/\" directory\n",
    "# For example, running this (by clicking run or pressing Shift+Enter) will list all files under the input directory\n",
    "\n",
    "import os\n",
    "for dirname, _, filenames in os.walk('/kaggle/input'):\n",
    "    for filename in filenames:\n",
    "        print(os.path.join(dirname, filename))\n",
    "\n",
    "# You can write up to 20GB to the current directory (/kaggle/working/) that gets preserved as output when you create a version using \"Save & Run All\" \n",
    "# You can also write temporary files to /kaggle/temp/, but they won't be saved outside of the current session"
   ]
  },
  {
   "cell_type": "markdown",
   "metadata": {},
   "source": [
    "# 1. Exploratory Data Analysis"
   ]
  },
  {
   "cell_type": "code",
   "execution_count": 24,
   "metadata": {
    "execution": {
     "iopub.execute_input": "2022-06-27T17:21:56.462254Z",
     "iopub.status.busy": "2022-06-27T17:21:56.461692Z",
     "iopub.status.idle": "2022-06-27T17:22:12.692085Z",
     "shell.execute_reply": "2022-06-27T17:22:12.691200Z",
     "shell.execute_reply.started": "2022-06-27T17:21:56.462215Z"
    }
   },
   "outputs": [
    {
     "data": {
      "text/html": [
       "<div>\n",
       "<style scoped>\n",
       "    .dataframe tbody tr th:only-of-type {\n",
       "        vertical-align: middle;\n",
       "    }\n",
       "\n",
       "    .dataframe tbody tr th {\n",
       "        vertical-align: top;\n",
       "    }\n",
       "\n",
       "    .dataframe thead th {\n",
       "        text-align: right;\n",
       "    }\n",
       "</style>\n",
       "<table border=\"1\" class=\"dataframe\">\n",
       "  <thead>\n",
       "    <tr style=\"text-align: right;\">\n",
       "      <th></th>\n",
       "      <th>step</th>\n",
       "      <th>type</th>\n",
       "      <th>amount</th>\n",
       "      <th>nameOrig</th>\n",
       "      <th>oldbalanceOrg</th>\n",
       "      <th>newbalanceOrig</th>\n",
       "      <th>nameDest</th>\n",
       "      <th>oldbalanceDest</th>\n",
       "      <th>newbalanceDest</th>\n",
       "      <th>isFraud</th>\n",
       "      <th>isFlaggedFraud</th>\n",
       "    </tr>\n",
       "  </thead>\n",
       "  <tbody>\n",
       "    <tr>\n",
       "      <th>0</th>\n",
       "      <td>1</td>\n",
       "      <td>PAYMENT</td>\n",
       "      <td>9839.64</td>\n",
       "      <td>C1231006815</td>\n",
       "      <td>170136.0</td>\n",
       "      <td>160296.36</td>\n",
       "      <td>M1979787155</td>\n",
       "      <td>0.0</td>\n",
       "      <td>0.0</td>\n",
       "      <td>0</td>\n",
       "      <td>0</td>\n",
       "    </tr>\n",
       "    <tr>\n",
       "      <th>1</th>\n",
       "      <td>1</td>\n",
       "      <td>PAYMENT</td>\n",
       "      <td>1864.28</td>\n",
       "      <td>C1666544295</td>\n",
       "      <td>21249.0</td>\n",
       "      <td>19384.72</td>\n",
       "      <td>M2044282225</td>\n",
       "      <td>0.0</td>\n",
       "      <td>0.0</td>\n",
       "      <td>0</td>\n",
       "      <td>0</td>\n",
       "    </tr>\n",
       "    <tr>\n",
       "      <th>2</th>\n",
       "      <td>1</td>\n",
       "      <td>TRANSFER</td>\n",
       "      <td>181.00</td>\n",
       "      <td>C1305486145</td>\n",
       "      <td>181.0</td>\n",
       "      <td>0.00</td>\n",
       "      <td>C553264065</td>\n",
       "      <td>0.0</td>\n",
       "      <td>0.0</td>\n",
       "      <td>1</td>\n",
       "      <td>0</td>\n",
       "    </tr>\n",
       "    <tr>\n",
       "      <th>3</th>\n",
       "      <td>1</td>\n",
       "      <td>CASH_OUT</td>\n",
       "      <td>181.00</td>\n",
       "      <td>C840083671</td>\n",
       "      <td>181.0</td>\n",
       "      <td>0.00</td>\n",
       "      <td>C38997010</td>\n",
       "      <td>21182.0</td>\n",
       "      <td>0.0</td>\n",
       "      <td>1</td>\n",
       "      <td>0</td>\n",
       "    </tr>\n",
       "    <tr>\n",
       "      <th>4</th>\n",
       "      <td>1</td>\n",
       "      <td>PAYMENT</td>\n",
       "      <td>11668.14</td>\n",
       "      <td>C2048537720</td>\n",
       "      <td>41554.0</td>\n",
       "      <td>29885.86</td>\n",
       "      <td>M1230701703</td>\n",
       "      <td>0.0</td>\n",
       "      <td>0.0</td>\n",
       "      <td>0</td>\n",
       "      <td>0</td>\n",
       "    </tr>\n",
       "  </tbody>\n",
       "</table>\n",
       "</div>"
      ],
      "text/plain": [
       "   step      type    amount     nameOrig  oldbalanceOrg  newbalanceOrig  \\\n",
       "0     1   PAYMENT   9839.64  C1231006815       170136.0       160296.36   \n",
       "1     1   PAYMENT   1864.28  C1666544295        21249.0        19384.72   \n",
       "2     1  TRANSFER    181.00  C1305486145          181.0            0.00   \n",
       "3     1  CASH_OUT    181.00   C840083671          181.0            0.00   \n",
       "4     1   PAYMENT  11668.14  C2048537720        41554.0        29885.86   \n",
       "\n",
       "      nameDest  oldbalanceDest  newbalanceDest  isFraud  isFlaggedFraud  \n",
       "0  M1979787155             0.0             0.0        0               0  \n",
       "1  M2044282225             0.0             0.0        0               0  \n",
       "2   C553264065             0.0             0.0        1               0  \n",
       "3    C38997010         21182.0             0.0        1               0  \n",
       "4  M1230701703             0.0             0.0        0               0  "
      ]
     },
     "execution_count": 24,
     "metadata": {},
     "output_type": "execute_result"
    }
   ],
   "source": [
    "import numpy as np\n",
    "import matplotlib.pyplot as plt\n",
    "df=pd.read_csv('C:/Users/cpalve001/Downloads/PS_20174392719_1491204439457_log.csv')\n",
    "df.head()"
   ]
  },
  {
   "cell_type": "code",
   "execution_count": 3,
   "metadata": {
    "execution": {
     "iopub.execute_input": "2022-06-27T17:22:36.569872Z",
     "iopub.status.busy": "2022-06-27T17:22:36.569484Z",
     "iopub.status.idle": "2022-06-27T17:22:38.669471Z",
     "shell.execute_reply": "2022-06-27T17:22:38.668262Z",
     "shell.execute_reply.started": "2022-06-27T17:22:36.569840Z"
    }
   },
   "outputs": [
    {
     "data": {
      "text/html": [
       "<div>\n",
       "<style scoped>\n",
       "    .dataframe tbody tr th:only-of-type {\n",
       "        vertical-align: middle;\n",
       "    }\n",
       "\n",
       "    .dataframe tbody tr th {\n",
       "        vertical-align: top;\n",
       "    }\n",
       "\n",
       "    .dataframe thead th {\n",
       "        text-align: right;\n",
       "    }\n",
       "</style>\n",
       "<table border=\"1\" class=\"dataframe\">\n",
       "  <thead>\n",
       "    <tr style=\"text-align: right;\">\n",
       "      <th></th>\n",
       "      <th>step</th>\n",
       "      <th>amount</th>\n",
       "      <th>oldbalanceOrg</th>\n",
       "      <th>newbalanceOrig</th>\n",
       "      <th>oldbalanceDest</th>\n",
       "      <th>newbalanceDest</th>\n",
       "      <th>isFraud</th>\n",
       "      <th>isFlaggedFraud</th>\n",
       "    </tr>\n",
       "  </thead>\n",
       "  <tbody>\n",
       "    <tr>\n",
       "      <th>count</th>\n",
       "      <td>6.362620e+06</td>\n",
       "      <td>6.362620e+06</td>\n",
       "      <td>6.362620e+06</td>\n",
       "      <td>6.362620e+06</td>\n",
       "      <td>6.362620e+06</td>\n",
       "      <td>6.362620e+06</td>\n",
       "      <td>6.362620e+06</td>\n",
       "      <td>6.362620e+06</td>\n",
       "    </tr>\n",
       "    <tr>\n",
       "      <th>mean</th>\n",
       "      <td>2.433972e+02</td>\n",
       "      <td>1.798619e+05</td>\n",
       "      <td>8.338831e+05</td>\n",
       "      <td>8.551137e+05</td>\n",
       "      <td>1.100702e+06</td>\n",
       "      <td>1.224996e+06</td>\n",
       "      <td>1.290820e-03</td>\n",
       "      <td>2.514687e-06</td>\n",
       "    </tr>\n",
       "    <tr>\n",
       "      <th>std</th>\n",
       "      <td>1.423320e+02</td>\n",
       "      <td>6.038582e+05</td>\n",
       "      <td>2.888243e+06</td>\n",
       "      <td>2.924049e+06</td>\n",
       "      <td>3.399180e+06</td>\n",
       "      <td>3.674129e+06</td>\n",
       "      <td>3.590480e-02</td>\n",
       "      <td>1.585775e-03</td>\n",
       "    </tr>\n",
       "    <tr>\n",
       "      <th>min</th>\n",
       "      <td>1.000000e+00</td>\n",
       "      <td>0.000000e+00</td>\n",
       "      <td>0.000000e+00</td>\n",
       "      <td>0.000000e+00</td>\n",
       "      <td>0.000000e+00</td>\n",
       "      <td>0.000000e+00</td>\n",
       "      <td>0.000000e+00</td>\n",
       "      <td>0.000000e+00</td>\n",
       "    </tr>\n",
       "    <tr>\n",
       "      <th>25%</th>\n",
       "      <td>1.560000e+02</td>\n",
       "      <td>1.338957e+04</td>\n",
       "      <td>0.000000e+00</td>\n",
       "      <td>0.000000e+00</td>\n",
       "      <td>0.000000e+00</td>\n",
       "      <td>0.000000e+00</td>\n",
       "      <td>0.000000e+00</td>\n",
       "      <td>0.000000e+00</td>\n",
       "    </tr>\n",
       "    <tr>\n",
       "      <th>50%</th>\n",
       "      <td>2.390000e+02</td>\n",
       "      <td>7.487194e+04</td>\n",
       "      <td>1.420800e+04</td>\n",
       "      <td>0.000000e+00</td>\n",
       "      <td>1.327057e+05</td>\n",
       "      <td>2.146614e+05</td>\n",
       "      <td>0.000000e+00</td>\n",
       "      <td>0.000000e+00</td>\n",
       "    </tr>\n",
       "    <tr>\n",
       "      <th>75%</th>\n",
       "      <td>3.350000e+02</td>\n",
       "      <td>2.087215e+05</td>\n",
       "      <td>1.073152e+05</td>\n",
       "      <td>1.442584e+05</td>\n",
       "      <td>9.430367e+05</td>\n",
       "      <td>1.111909e+06</td>\n",
       "      <td>0.000000e+00</td>\n",
       "      <td>0.000000e+00</td>\n",
       "    </tr>\n",
       "    <tr>\n",
       "      <th>max</th>\n",
       "      <td>7.430000e+02</td>\n",
       "      <td>9.244552e+07</td>\n",
       "      <td>5.958504e+07</td>\n",
       "      <td>4.958504e+07</td>\n",
       "      <td>3.560159e+08</td>\n",
       "      <td>3.561793e+08</td>\n",
       "      <td>1.000000e+00</td>\n",
       "      <td>1.000000e+00</td>\n",
       "    </tr>\n",
       "  </tbody>\n",
       "</table>\n",
       "</div>"
      ],
      "text/plain": [
       "               step        amount  oldbalanceOrg  newbalanceOrig  \\\n",
       "count  6.362620e+06  6.362620e+06   6.362620e+06    6.362620e+06   \n",
       "mean   2.433972e+02  1.798619e+05   8.338831e+05    8.551137e+05   \n",
       "std    1.423320e+02  6.038582e+05   2.888243e+06    2.924049e+06   \n",
       "min    1.000000e+00  0.000000e+00   0.000000e+00    0.000000e+00   \n",
       "25%    1.560000e+02  1.338957e+04   0.000000e+00    0.000000e+00   \n",
       "50%    2.390000e+02  7.487194e+04   1.420800e+04    0.000000e+00   \n",
       "75%    3.350000e+02  2.087215e+05   1.073152e+05    1.442584e+05   \n",
       "max    7.430000e+02  9.244552e+07   5.958504e+07    4.958504e+07   \n",
       "\n",
       "       oldbalanceDest  newbalanceDest       isFraud  isFlaggedFraud  \n",
       "count    6.362620e+06    6.362620e+06  6.362620e+06    6.362620e+06  \n",
       "mean     1.100702e+06    1.224996e+06  1.290820e-03    2.514687e-06  \n",
       "std      3.399180e+06    3.674129e+06  3.590480e-02    1.585775e-03  \n",
       "min      0.000000e+00    0.000000e+00  0.000000e+00    0.000000e+00  \n",
       "25%      0.000000e+00    0.000000e+00  0.000000e+00    0.000000e+00  \n",
       "50%      1.327057e+05    2.146614e+05  0.000000e+00    0.000000e+00  \n",
       "75%      9.430367e+05    1.111909e+06  0.000000e+00    0.000000e+00  \n",
       "max      3.560159e+08    3.561793e+08  1.000000e+00    1.000000e+00  "
      ]
     },
     "execution_count": 3,
     "metadata": {},
     "output_type": "execute_result"
    }
   ],
   "source": [
    "df.describe()"
   ]
  },
  {
   "cell_type": "code",
   "execution_count": 7,
   "metadata": {
    "execution": {
     "iopub.execute_input": "2022-06-27T17:22:38.672327Z",
     "iopub.status.busy": "2022-06-27T17:22:38.671840Z",
     "iopub.status.idle": "2022-06-27T17:22:38.688329Z",
     "shell.execute_reply": "2022-06-27T17:22:38.687233Z",
     "shell.execute_reply.started": "2022-06-27T17:22:38.672282Z"
    }
   },
   "outputs": [
    {
     "name": "stdout",
     "output_type": "stream",
     "text": [
      "<class 'pandas.core.frame.DataFrame'>\n",
      "RangeIndex: 6362620 entries, 0 to 6362619\n",
      "Data columns (total 11 columns):\n",
      " #   Column          Dtype  \n",
      "---  ------          -----  \n",
      " 0   step            int64  \n",
      " 1   type            object \n",
      " 2   amount          float64\n",
      " 3   nameOrig        object \n",
      " 4   oldbalanceOrg   float64\n",
      " 5   newbalanceOrig  float64\n",
      " 6   nameDest        object \n",
      " 7   oldbalanceDest  float64\n",
      " 8   newbalanceDest  float64\n",
      " 9   isFraud         int64  \n",
      " 10  isFlaggedFraud  int64  \n",
      "dtypes: float64(5), int64(3), object(3)\n",
      "memory usage: 534.0+ MB\n"
     ]
    }
   ],
   "source": [
    "df.info()"
   ]
  },
  {
   "cell_type": "markdown",
   "metadata": {},
   "source": [
    "The data has no null values."
   ]
  },
  {
   "cell_type": "code",
   "execution_count": 8,
   "metadata": {
    "execution": {
     "iopub.execute_input": "2022-06-27T17:22:38.691995Z",
     "iopub.status.busy": "2022-06-27T17:22:38.690930Z",
     "iopub.status.idle": "2022-06-27T17:22:40.808339Z",
     "shell.execute_reply": "2022-06-27T17:22:40.807321Z",
     "shell.execute_reply.started": "2022-06-27T17:22:38.691955Z"
    }
   },
   "outputs": [
    {
     "data": {
      "text/plain": [
       "step              False\n",
       "type              False\n",
       "amount            False\n",
       "nameOrig          False\n",
       "oldbalanceOrg     False\n",
       "newbalanceOrig    False\n",
       "nameDest          False\n",
       "oldbalanceDest    False\n",
       "newbalanceDest    False\n",
       "isFraud           False\n",
       "isFlaggedFraud    False\n",
       "dtype: bool"
      ]
     },
     "execution_count": 8,
     "metadata": {},
     "output_type": "execute_result"
    }
   ],
   "source": [
    "df.isnull().any()"
   ]
  },
  {
   "cell_type": "code",
   "execution_count": 9,
   "metadata": {
    "execution": {
     "iopub.execute_input": "2022-06-27T17:22:40.812531Z",
     "iopub.status.busy": "2022-06-27T17:22:40.812071Z",
     "iopub.status.idle": "2022-06-27T17:22:42.003843Z",
     "shell.execute_reply": "2022-06-27T17:22:42.002774Z",
     "shell.execute_reply.started": "2022-06-27T17:22:40.812485Z"
    }
   },
   "outputs": [
    {
     "data": {
      "image/png": "[encoded data removed]",
      "text/plain": [
       "<Figure size 360x360 with 1 Axes>"
      ]
     },
     "metadata": {
      "needs_background": "light"
     },
     "output_type": "display_data"
    }
   ],
   "source": [
    "f, ax = plt.subplots(1, 1, figsize=(5, 5))\n",
    "df.type.value_counts().plot(kind='bar', title=\"Transaction type\", ax=ax, figsize=(5,5))\n",
    "plt.show()"
   ]
  },
  {
   "cell_type": "markdown",
   "metadata": {},
   "source": []
  },
  {
   "cell_type": "code",
   "execution_count": 10,
   "metadata": {
    "execution": {
     "iopub.execute_input": "2022-06-27T17:22:42.005512Z",
     "iopub.status.busy": "2022-06-27T17:22:42.005183Z",
     "iopub.status.idle": "2022-06-27T17:22:43.204318Z",
     "shell.execute_reply": "2022-06-27T17:22:43.203613Z",
     "shell.execute_reply.started": "2022-06-27T17:22:42.005480Z"
    }
   },
   "outputs": [
    {
     "data": {
      "text/plain": [
       "<AxesSubplot:xlabel='isFraud', ylabel='amount'>"
      ]
     },
     "execution_count": 10,
     "metadata": {},
     "output_type": "execute_result"
    },
    {
     "data": {
      "image/png": "[encoded data removed]",
      "text/plain": [
       "<Figure size 432x288 with 1 Axes>"
      ]
     },
     "metadata": {
      "needs_background": "light"
     },
     "output_type": "display_data"
    }
   ],
   "source": [
    "import seaborn as sns\n",
    "sns.boxplot(x = 'isFraud', y = 'amount', data = df[df.amount < 1e5])"
   ]
  },
  {
   "cell_type": "code",
   "execution_count": 11,
   "metadata": {
    "execution": {
     "iopub.execute_input": "2022-06-27T17:22:43.205842Z",
     "iopub.status.busy": "2022-06-27T17:22:43.205417Z",
     "iopub.status.idle": "2022-06-27T17:22:45.903240Z",
     "shell.execute_reply": "2022-06-27T17:22:45.902158Z",
     "shell.execute_reply.started": "2022-06-27T17:22:43.205813Z"
    }
   },
   "outputs": [
    {
     "data": {
      "text/plain": [
       "type      isFraud\n",
       "CASH_IN   0          1399284\n",
       "CASH_OUT  0          2233384\n",
       "          1             4116\n",
       "DEBIT     0            41432\n",
       "PAYMENT   0          2151495\n",
       "TRANSFER  0           528812\n",
       "          1             4097\n",
       "Name: step, dtype: int64"
      ]
     },
     "execution_count": 11,
     "metadata": {},
     "output_type": "execute_result"
    }
   ],
   "source": [
    "df.groupby(['type', 'isFraud']).count()['step']"
   ]
  },
  {
   "cell_type": "code",
   "execution_count": 12,
   "metadata": {
    "execution": {
     "iopub.execute_input": "2022-06-27T17:22:45.905571Z",
     "iopub.status.busy": "2022-06-27T17:22:45.904880Z",
     "iopub.status.idle": "2022-06-27T17:22:50.293110Z",
     "shell.execute_reply": "2022-06-27T17:22:50.292056Z",
     "shell.execute_reply.started": "2022-06-27T17:22:45.905525Z"
    }
   },
   "outputs": [
    {
     "data": {
      "text/plain": [
       "<AxesSubplot:xlabel='type', ylabel='amount'>"
      ]
     },
     "execution_count": 12,
     "metadata": {},
     "output_type": "execute_result"
    },
    {
     "data": {
      "image/png": "[encoded data removed]",
      "text/plain": [
       "<Figure size 648x432 with 1 Axes>"
      ]
     },
     "metadata": {
      "needs_background": "light"
     },
     "output_type": "display_data"
    }
   ],
   "source": [
    "plt.figure(figsize=(9,6))\n",
    "sns.boxplot(hue = 'isFraud', x = 'type', y = 'amount', data = df[df.amount < 1e5])"
   ]
  },
  {
   "cell_type": "markdown",
   "metadata": {},
   "source": [
    "# 1 Use of isFlaggedFraud?\n",
    "This attribute is set only for 16 times in total of 60lakh cases"
   ]
  },
  {
   "cell_type": "code",
   "execution_count": 13,
   "metadata": {
    "execution": {
     "iopub.execute_input": "2022-06-27T17:22:50.294837Z",
     "iopub.status.busy": "2022-06-27T17:22:50.294541Z",
     "iopub.status.idle": "2022-06-27T17:22:50.309083Z",
     "shell.execute_reply": "2022-06-27T17:22:50.308050Z",
     "shell.execute_reply.started": "2022-06-27T17:22:50.294810Z"
    }
   },
   "outputs": [
    {
     "data": {
      "text/plain": [
       "16"
      ]
     },
     "execution_count": 13,
     "metadata": {},
     "output_type": "execute_result"
    }
   ],
   "source": [
    "len(df.loc[df.isFlaggedFraud==1])"
   ]
  },
  {
   "cell_type": "code",
   "execution_count": 14,
   "metadata": {
    "execution": {
     "iopub.execute_input": "2022-06-27T17:22:50.310833Z",
     "iopub.status.busy": "2022-06-27T17:22:50.310422Z",
     "iopub.status.idle": "2022-06-27T17:22:50.343852Z",
     "shell.execute_reply": "2022-06-27T17:22:50.342883Z",
     "shell.execute_reply.started": "2022-06-27T17:22:50.310798Z"
    }
   },
   "outputs": [
    {
     "data": {
      "text/html": [
       "<div>\n",
       "<style scoped>\n",
       "    .dataframe tbody tr th:only-of-type {\n",
       "        vertical-align: middle;\n",
       "    }\n",
       "\n",
       "    .dataframe tbody tr th {\n",
       "        vertical-align: top;\n",
       "    }\n",
       "\n",
       "    .dataframe thead th {\n",
       "        text-align: right;\n",
       "    }\n",
       "</style>\n",
       "<table border=\"1\" class=\"dataframe\">\n",
       "  <thead>\n",
       "    <tr style=\"text-align: right;\">\n",
       "      <th></th>\n",
       "      <th>step</th>\n",
       "      <th>type</th>\n",
       "      <th>amount</th>\n",
       "      <th>nameOrig</th>\n",
       "      <th>oldbalanceOrg</th>\n",
       "      <th>newbalanceOrig</th>\n",
       "      <th>nameDest</th>\n",
       "      <th>oldbalanceDest</th>\n",
       "      <th>newbalanceDest</th>\n",
       "      <th>isFraud</th>\n",
       "      <th>isFlaggedFraud</th>\n",
       "    </tr>\n",
       "  </thead>\n",
       "  <tbody>\n",
       "    <tr>\n",
       "      <th>2736446</th>\n",
       "      <td>212</td>\n",
       "      <td>TRANSFER</td>\n",
       "      <td>4953893.08</td>\n",
       "      <td>C728984460</td>\n",
       "      <td>4953893.08</td>\n",
       "      <td>4953893.08</td>\n",
       "      <td>C639921569</td>\n",
       "      <td>0.0</td>\n",
       "      <td>0.0</td>\n",
       "      <td>1</td>\n",
       "      <td>1</td>\n",
       "    </tr>\n",
       "    <tr>\n",
       "      <th>3247297</th>\n",
       "      <td>250</td>\n",
       "      <td>TRANSFER</td>\n",
       "      <td>1343002.08</td>\n",
       "      <td>C1100582606</td>\n",
       "      <td>1343002.08</td>\n",
       "      <td>1343002.08</td>\n",
       "      <td>C1147517658</td>\n",
       "      <td>0.0</td>\n",
       "      <td>0.0</td>\n",
       "      <td>1</td>\n",
       "      <td>1</td>\n",
       "    </tr>\n",
       "    <tr>\n",
       "      <th>3760288</th>\n",
       "      <td>279</td>\n",
       "      <td>TRANSFER</td>\n",
       "      <td>536624.41</td>\n",
       "      <td>C1035541766</td>\n",
       "      <td>536624.41</td>\n",
       "      <td>536624.41</td>\n",
       "      <td>C1100697970</td>\n",
       "      <td>0.0</td>\n",
       "      <td>0.0</td>\n",
       "      <td>1</td>\n",
       "      <td>1</td>\n",
       "    </tr>\n",
       "    <tr>\n",
       "      <th>5563713</th>\n",
       "      <td>387</td>\n",
       "      <td>TRANSFER</td>\n",
       "      <td>4892193.09</td>\n",
       "      <td>C908544136</td>\n",
       "      <td>4892193.09</td>\n",
       "      <td>4892193.09</td>\n",
       "      <td>C891140444</td>\n",
       "      <td>0.0</td>\n",
       "      <td>0.0</td>\n",
       "      <td>1</td>\n",
       "      <td>1</td>\n",
       "    </tr>\n",
       "    <tr>\n",
       "      <th>5996407</th>\n",
       "      <td>425</td>\n",
       "      <td>TRANSFER</td>\n",
       "      <td>10000000.00</td>\n",
       "      <td>C689608084</td>\n",
       "      <td>19585040.37</td>\n",
       "      <td>19585040.37</td>\n",
       "      <td>C1392803603</td>\n",
       "      <td>0.0</td>\n",
       "      <td>0.0</td>\n",
       "      <td>1</td>\n",
       "      <td>1</td>\n",
       "    </tr>\n",
       "    <tr>\n",
       "      <th>5996409</th>\n",
       "      <td>425</td>\n",
       "      <td>TRANSFER</td>\n",
       "      <td>9585040.37</td>\n",
       "      <td>C452586515</td>\n",
       "      <td>19585040.37</td>\n",
       "      <td>19585040.37</td>\n",
       "      <td>C1109166882</td>\n",
       "      <td>0.0</td>\n",
       "      <td>0.0</td>\n",
       "      <td>1</td>\n",
       "      <td>1</td>\n",
       "    </tr>\n",
       "    <tr>\n",
       "      <th>6168499</th>\n",
       "      <td>554</td>\n",
       "      <td>TRANSFER</td>\n",
       "      <td>3576297.10</td>\n",
       "      <td>C193696150</td>\n",
       "      <td>3576297.10</td>\n",
       "      <td>3576297.10</td>\n",
       "      <td>C484597480</td>\n",
       "      <td>0.0</td>\n",
       "      <td>0.0</td>\n",
       "      <td>1</td>\n",
       "      <td>1</td>\n",
       "    </tr>\n",
       "    <tr>\n",
       "      <th>6205439</th>\n",
       "      <td>586</td>\n",
       "      <td>TRANSFER</td>\n",
       "      <td>353874.22</td>\n",
       "      <td>C1684585475</td>\n",
       "      <td>353874.22</td>\n",
       "      <td>353874.22</td>\n",
       "      <td>C1770418982</td>\n",
       "      <td>0.0</td>\n",
       "      <td>0.0</td>\n",
       "      <td>1</td>\n",
       "      <td>1</td>\n",
       "    </tr>\n",
       "    <tr>\n",
       "      <th>6266413</th>\n",
       "      <td>617</td>\n",
       "      <td>TRANSFER</td>\n",
       "      <td>2542664.27</td>\n",
       "      <td>C786455622</td>\n",
       "      <td>2542664.27</td>\n",
       "      <td>2542664.27</td>\n",
       "      <td>C661958277</td>\n",
       "      <td>0.0</td>\n",
       "      <td>0.0</td>\n",
       "      <td>1</td>\n",
       "      <td>1</td>\n",
       "    </tr>\n",
       "    <tr>\n",
       "      <th>6281482</th>\n",
       "      <td>646</td>\n",
       "      <td>TRANSFER</td>\n",
       "      <td>10000000.00</td>\n",
       "      <td>C19004745</td>\n",
       "      <td>10399045.08</td>\n",
       "      <td>10399045.08</td>\n",
       "      <td>C1806199534</td>\n",
       "      <td>0.0</td>\n",
       "      <td>0.0</td>\n",
       "      <td>1</td>\n",
       "      <td>1</td>\n",
       "    </tr>\n",
       "    <tr>\n",
       "      <th>6281484</th>\n",
       "      <td>646</td>\n",
       "      <td>TRANSFER</td>\n",
       "      <td>399045.08</td>\n",
       "      <td>C724693370</td>\n",
       "      <td>10399045.08</td>\n",
       "      <td>10399045.08</td>\n",
       "      <td>C1909486199</td>\n",
       "      <td>0.0</td>\n",
       "      <td>0.0</td>\n",
       "      <td>1</td>\n",
       "      <td>1</td>\n",
       "    </tr>\n",
       "    <tr>\n",
       "      <th>6296014</th>\n",
       "      <td>671</td>\n",
       "      <td>TRANSFER</td>\n",
       "      <td>3441041.46</td>\n",
       "      <td>C917414431</td>\n",
       "      <td>3441041.46</td>\n",
       "      <td>3441041.46</td>\n",
       "      <td>C1082139865</td>\n",
       "      <td>0.0</td>\n",
       "      <td>0.0</td>\n",
       "      <td>1</td>\n",
       "      <td>1</td>\n",
       "    </tr>\n",
       "    <tr>\n",
       "      <th>6351225</th>\n",
       "      <td>702</td>\n",
       "      <td>TRANSFER</td>\n",
       "      <td>3171085.59</td>\n",
       "      <td>C1892216157</td>\n",
       "      <td>3171085.59</td>\n",
       "      <td>3171085.59</td>\n",
       "      <td>C1308068787</td>\n",
       "      <td>0.0</td>\n",
       "      <td>0.0</td>\n",
       "      <td>1</td>\n",
       "      <td>1</td>\n",
       "    </tr>\n",
       "    <tr>\n",
       "      <th>6362460</th>\n",
       "      <td>730</td>\n",
       "      <td>TRANSFER</td>\n",
       "      <td>10000000.00</td>\n",
       "      <td>C2140038573</td>\n",
       "      <td>17316255.05</td>\n",
       "      <td>17316255.05</td>\n",
       "      <td>C1395467927</td>\n",
       "      <td>0.0</td>\n",
       "      <td>0.0</td>\n",
       "      <td>1</td>\n",
       "      <td>1</td>\n",
       "    </tr>\n",
       "    <tr>\n",
       "      <th>6362462</th>\n",
       "      <td>730</td>\n",
       "      <td>TRANSFER</td>\n",
       "      <td>7316255.05</td>\n",
       "      <td>C1869569059</td>\n",
       "      <td>17316255.05</td>\n",
       "      <td>17316255.05</td>\n",
       "      <td>C1861208726</td>\n",
       "      <td>0.0</td>\n",
       "      <td>0.0</td>\n",
       "      <td>1</td>\n",
       "      <td>1</td>\n",
       "    </tr>\n",
       "    <tr>\n",
       "      <th>6362584</th>\n",
       "      <td>741</td>\n",
       "      <td>TRANSFER</td>\n",
       "      <td>5674547.89</td>\n",
       "      <td>C992223106</td>\n",
       "      <td>5674547.89</td>\n",
       "      <td>5674547.89</td>\n",
       "      <td>C1366804249</td>\n",
       "      <td>0.0</td>\n",
       "      <td>0.0</td>\n",
       "      <td>1</td>\n",
       "      <td>1</td>\n",
       "    </tr>\n",
       "  </tbody>\n",
       "</table>\n",
       "</div>"
      ],
      "text/plain": [
       "         step      type       amount     nameOrig  oldbalanceOrg  \\\n",
       "2736446   212  TRANSFER   4953893.08   C728984460     4953893.08   \n",
       "3247297   250  TRANSFER   1343002.08  C1100582606     1343002.08   \n",
       "3760288   279  TRANSFER    536624.41  C1035541766      536624.41   \n",
       "5563713   387  TRANSFER   4892193.09   C908544136     4892193.09   \n",
       "5996407   425  TRANSFER  10000000.00   C689608084    19585040.37   \n",
       "5996409   425  TRANSFER   9585040.37   C452586515    19585040.37   \n",
       "6168499   554  TRANSFER   3576297.10   C193696150     3576297.10   \n",
       "6205439   586  TRANSFER    353874.22  C1684585475      353874.22   \n",
       "6266413   617  TRANSFER   2542664.27   C786455622     2542664.27   \n",
       "6281482   646  TRANSFER  10000000.00    C19004745    10399045.08   \n",
       "6281484   646  TRANSFER    399045.08   C724693370    10399045.08   \n",
       "6296014   671  TRANSFER   3441041.46   C917414431     3441041.46   \n",
       "6351225   702  TRANSFER   3171085.59  C1892216157     3171085.59   \n",
       "6362460   730  TRANSFER  10000000.00  C2140038573    17316255.05   \n",
       "6362462   730  TRANSFER   7316255.05  C1869569059    17316255.05   \n",
       "6362584   741  TRANSFER   5674547.89   C992223106     5674547.89   \n",
       "\n",
       "         newbalanceOrig     nameDest  oldbalanceDest  newbalanceDest  isFraud  \\\n",
       "2736446      4953893.08   C639921569             0.0             0.0        1   \n",
       "3247297      1343002.08  C1147517658             0.0             0.0        1   \n",
       "3760288       536624.41  C1100697970             0.0             0.0        1   \n",
       "5563713      4892193.09   C891140444             0.0             0.0        1   \n",
       "5996407     19585040.37  C1392803603             0.0             0.0        1   \n",
       "5996409     19585040.37  C1109166882             0.0             0.0        1   \n",
       "6168499      3576297.10   C484597480             0.0             0.0        1   \n",
       "6205439       353874.22  C1770418982             0.0             0.0        1   \n",
       "6266413      2542664.27   C661958277             0.0             0.0        1   \n",
       "6281482     10399045.08  C1806199534             0.0             0.0        1   \n",
       "6281484     10399045.08  C1909486199             0.0             0.0        1   \n",
       "6296014      3441041.46  C1082139865             0.0             0.0        1   \n",
       "6351225      3171085.59  C1308068787             0.0             0.0        1   \n",
       "6362460     17316255.05  C1395467927             0.0             0.0        1   \n",
       "6362462     17316255.05  C1861208726             0.0             0.0        1   \n",
       "6362584      5674547.89  C1366804249             0.0             0.0        1   \n",
       "\n",
       "         isFlaggedFraud  \n",
       "2736446               1  \n",
       "3247297               1  \n",
       "3760288               1  \n",
       "5563713               1  \n",
       "5996407               1  \n",
       "5996409               1  \n",
       "6168499               1  \n",
       "6205439               1  \n",
       "6266413               1  \n",
       "6281482               1  \n",
       "6281484               1  \n",
       "6296014               1  \n",
       "6351225               1  \n",
       "6362460               1  \n",
       "6362462               1  \n",
       "6362584               1  "
      ]
     },
     "execution_count": 14,
     "metadata": {},
     "output_type": "execute_result"
    }
   ],
   "source": [
    "df[df.isFlaggedFraud==1]"
   ]
  },
  {
   "cell_type": "markdown",
   "metadata": {},
   "source": [
    "Can oldBalanceDest and newBalanceDest determine isFlaggedFraud being set? The old is identical to the new balance in the origin and destination accounts, for every TRANSFER where isFlaggedFraud is set. This is because the transaction is halted. Interestingly, oldBalanceDest = 0 in every such transaction. However, as shown below, since isFlaggedFraud can remain not set in TRANSFERS where oldBalanceDest and newBalanceDest can both be 0, these conditions do not determine the state of isFlaggedFraud.\n",
    "\n"
   ]
  },
  {
   "cell_type": "code",
   "execution_count": 15,
   "metadata": {
    "execution": {
     "iopub.execute_input": "2022-06-27T17:22:50.348492Z",
     "iopub.status.busy": "2022-06-27T17:22:50.347740Z",
     "iopub.status.idle": "2022-06-27T17:22:51.516075Z",
     "shell.execute_reply": "2022-06-27T17:22:51.515297Z",
     "shell.execute_reply.started": "2022-06-27T17:22:50.348448Z"
    }
   },
   "outputs": [
    {
     "name": "stdout",
     "output_type": "stream",
     "text": [
      "\n",
      "The number of TRANSFERs where isFlaggedFraud = 0, yet oldBalanceDest = 0 and newBalanceDest = 0: 4158\n"
     ]
    }
   ],
   "source": [
    "dfTransfer = df.loc[df.type == 'TRANSFER']\n",
    "print('\\nThe number of TRANSFERs where isFlaggedFraud = 0, yet oldBalanceDest = 0 and\\\n",
    " newBalanceDest = 0: {}'.\\\n",
    "format(len(dfTransfer.loc[(dfTransfer.isFlaggedFraud == 0) & \\\n",
    "(dfTransfer.oldbalanceDest == 0) & (dfTransfer.newbalanceDest == 0)])))"
   ]
  },
  {
   "cell_type": "code",
   "execution_count": 16,
   "metadata": {
    "execution": {
     "iopub.execute_input": "2022-06-27T17:22:51.518040Z",
     "iopub.status.busy": "2022-06-27T17:22:51.517453Z",
     "iopub.status.idle": "2022-06-27T17:22:54.586143Z",
     "shell.execute_reply": "2022-06-27T17:22:54.585278Z",
     "shell.execute_reply.started": "2022-06-27T17:22:51.517974Z"
    }
   },
   "outputs": [
    {
     "name": "stdout",
     "output_type": "stream",
     "text": [
      "\n",
      "The type of transactions in which the isFlaggedFraud is set ['TRANSFER'] \n",
      "\n",
      "How many destination accounts of transactions flagged as fraud have been destination accounts more than once?: 2\n"
     ]
    }
   ],
   "source": [
    "print('\\nThe type of transactions in which the isFlaggedFraud is set {} \\\n",
    "'.format(df.loc[df.isFlaggedFraud==1].type.drop_duplicates().values))\n",
    "\n",
    "# Since only 2 destination accounts of 16 that have 'isFlaggedFraud' set have been\n",
    "# destination accounts more than once, clearly 'isFlaggedFraud' being set is independent of whether a \n",
    "# destination account has been used before or not\n",
    "\n",
    "print('\\nHow many destination accounts of transactions flagged as fraud have been \\\n",
    "destination accounts more than once?: {}'\\\n",
    ".format(sum(df.loc[df.isFlaggedFraud==1].nameDest.isin(df.loc[df.isFlaggedFraud==0].nameDest)))) "
   ]
  },
  {
   "cell_type": "markdown",
   "metadata": {},
   "source": [
    "Even if isFraud always set when isFlaggedFraud is set, it is set only 16 times and seems to be unrelatable with any variable in the data."
   ]
  },
  {
   "cell_type": "markdown",
   "metadata": {},
   "source": [
    "# 2 Which types of transactions are fraud?\n",
    "\n",
    "Note:  'TRANSFER' where money is sent to a customer / fraudster and 'CASH_OUT' where money is sent to a merchant who pays the customer / fraudster in cash.\n",
    "The number of fraudulent TRANSFERs almost equals the number of fraudulent CASH_OUTs ("
   ]
  },
  {
   "cell_type": "code",
   "execution_count": 17,
   "metadata": {
    "execution": {
     "iopub.execute_input": "2022-06-27T17:22:54.588324Z",
     "iopub.status.busy": "2022-06-27T17:22:54.587474Z",
     "iopub.status.idle": "2022-06-27T17:22:56.624872Z",
     "shell.execute_reply": "2022-06-27T17:22:56.623875Z",
     "shell.execute_reply.started": "2022-06-27T17:22:54.588274Z"
    }
   },
   "outputs": [
    {
     "name": "stdout",
     "output_type": "stream",
     "text": [
      "\n",
      "The type of transactions in which the fraud has taken place are ['TRANSFER', 'CASH_OUT']\n",
      "Total number of fraudulent transactions for Cashout are 4116 and for Transfer are 4097\n"
     ]
    }
   ],
   "source": [
    "print('\\nThe type of transactions in which the fraud has taken place are {}\\\n",
    "'.format(list(df.loc[df.isFraud==1].type.drop_duplicates().values))) \n",
    "\n",
    "print('Total number of fraudulent transactions for Cashout are {x} and for Transfer are {y}'.\\\n",
    "      format(x=len(df.loc[(df.isFraud==1)&(df.type=='CASH_OUT')]),y=len(df.loc[(df.isFraud==1)&(df.type=='TRANSFER')])))"
   ]
  },
  {
   "cell_type": "markdown",
   "metadata": {},
   "source": [
    "# 3 Are there account labels common to fraudulent TRANSFERs and CASH_OUTs?\n",
    "\n",
    "CASH_OUT involves transacting with a merchant who pays out cash. Thus, within this two-step process, the fraudulent account would be both, the destination in a TRANSFER and the originator in a CASH_OUT. However, the data shows below that there are no such common accounts among fraudulent transactions.\n"
   ]
  },
  {
   "cell_type": "code",
   "execution_count": 18,
   "metadata": {
    "execution": {
     "iopub.execute_input": "2022-06-27T17:22:56.627238Z",
     "iopub.status.busy": "2022-06-27T17:22:56.626439Z",
     "iopub.status.idle": "2022-06-27T17:22:58.636540Z",
     "shell.execute_reply": "2022-06-27T17:22:58.635667Z",
     "shell.execute_reply.started": "2022-06-27T17:22:56.627192Z"
    }
   },
   "outputs": [
    {
     "name": "stdout",
     "output_type": "stream",
     "text": [
      "\n",
      "Within the fraud transactions are there any accounts wherethe origin for TRANSFER is the destination in CASH_OUT? \n"
     ]
    },
    {
     "data": {
      "text/plain": [
       "False"
      ]
     },
     "execution_count": 18,
     "metadata": {},
     "output_type": "execute_result"
    }
   ],
   "source": [
    "print('\\nWithin the fraud transactions are there any accounts where\\\n",
    "the origin for TRANSFER is the destination in CASH_OUT? ')\n",
    "df.loc[(df.isFraud==1) &( df.type=='TRANSFER')].\\\n",
    "nameDest.isin(df.loc[(df.isFraud==1) & (df.type=='CASH_OUT')].nameOrig).any()"
   ]
  },
  {
   "cell_type": "code",
   "execution_count": 19,
   "metadata": {
    "execution": {
     "iopub.execute_input": "2022-06-27T17:22:58.638429Z",
     "iopub.status.busy": "2022-06-27T17:22:58.637705Z",
     "iopub.status.idle": "2022-06-27T17:23:00.652134Z",
     "shell.execute_reply": "2022-06-27T17:23:00.651051Z",
     "shell.execute_reply.started": "2022-06-27T17:22:58.638391Z"
    }
   },
   "outputs": [
    {
     "name": "stdout",
     "output_type": "stream",
     "text": [
      "\n",
      "Within the fraud transactions are there any accounts wherethe Destination for TRANSFER is the origin in CASH_OUT? \n"
     ]
    },
    {
     "data": {
      "text/plain": [
       "False"
      ]
     },
     "execution_count": 19,
     "metadata": {},
     "output_type": "execute_result"
    }
   ],
   "source": [
    "print('\\nWithin the fraud transactions are there any accounts where\\\n",
    "the Destination for TRANSFER is the origin in CASH_OUT? ')\n",
    "df[(df.isFraud==1) &( df.type=='TRANSFER')].\\\n",
    "nameOrig.isin(df[(df.isFraud==1) & (df.type=='CASH_OUT')].nameDest).any()"
   ]
  },
  {
   "cell_type": "code",
   "execution_count": 20,
   "metadata": {
    "execution": {
     "iopub.execute_input": "2022-06-27T17:23:00.653969Z",
     "iopub.status.busy": "2022-06-27T17:23:00.653535Z",
     "iopub.status.idle": "2022-06-27T17:23:05.812615Z",
     "shell.execute_reply": "2022-06-27T17:23:05.811521Z",
     "shell.execute_reply.started": "2022-06-27T17:23:00.653926Z"
    }
   },
   "outputs": [
    {
     "name": "stdout",
     "output_type": "stream",
     "text": [
      "\n",
      "Fraudulent TRANSFER whose destination are origin of genuine CASH_OUTs \n"
     ]
    },
    {
     "data": {
      "text/html": [
       "<div>\n",
       "<style scoped>\n",
       "    .dataframe tbody tr th:only-of-type {\n",
       "        vertical-align: middle;\n",
       "    }\n",
       "\n",
       "    .dataframe tbody tr th {\n",
       "        vertical-align: top;\n",
       "    }\n",
       "\n",
       "    .dataframe thead th {\n",
       "        text-align: right;\n",
       "    }\n",
       "</style>\n",
       "<table border=\"1\" class=\"dataframe\">\n",
       "  <thead>\n",
       "    <tr style=\"text-align: right;\">\n",
       "      <th></th>\n",
       "      <th>step</th>\n",
       "      <th>type</th>\n",
       "      <th>amount</th>\n",
       "      <th>nameOrig</th>\n",
       "      <th>oldbalanceOrg</th>\n",
       "      <th>newbalanceOrig</th>\n",
       "      <th>nameDest</th>\n",
       "      <th>oldbalanceDest</th>\n",
       "      <th>newbalanceDest</th>\n",
       "      <th>isFraud</th>\n",
       "      <th>isFlaggedFraud</th>\n",
       "    </tr>\n",
       "  </thead>\n",
       "  <tbody>\n",
       "    <tr>\n",
       "      <th>1030443</th>\n",
       "      <td>65</td>\n",
       "      <td>TRANSFER</td>\n",
       "      <td>1282971.57</td>\n",
       "      <td>C1175896731</td>\n",
       "      <td>1282971.57</td>\n",
       "      <td>0.0</td>\n",
       "      <td>C1714931087</td>\n",
       "      <td>0.0</td>\n",
       "      <td>0.0</td>\n",
       "      <td>1</td>\n",
       "      <td>0</td>\n",
       "    </tr>\n",
       "    <tr>\n",
       "      <th>6039814</th>\n",
       "      <td>486</td>\n",
       "      <td>TRANSFER</td>\n",
       "      <td>214793.32</td>\n",
       "      <td>C2140495649</td>\n",
       "      <td>214793.32</td>\n",
       "      <td>0.0</td>\n",
       "      <td>C423543548</td>\n",
       "      <td>0.0</td>\n",
       "      <td>0.0</td>\n",
       "      <td>1</td>\n",
       "      <td>0</td>\n",
       "    </tr>\n",
       "    <tr>\n",
       "      <th>6362556</th>\n",
       "      <td>738</td>\n",
       "      <td>TRANSFER</td>\n",
       "      <td>814689.88</td>\n",
       "      <td>C2029041842</td>\n",
       "      <td>814689.88</td>\n",
       "      <td>0.0</td>\n",
       "      <td>C1023330867</td>\n",
       "      <td>0.0</td>\n",
       "      <td>0.0</td>\n",
       "      <td>1</td>\n",
       "      <td>0</td>\n",
       "    </tr>\n",
       "  </tbody>\n",
       "</table>\n",
       "</div>"
      ],
      "text/plain": [
       "         step      type      amount     nameOrig  oldbalanceOrg  \\\n",
       "1030443    65  TRANSFER  1282971.57  C1175896731     1282971.57   \n",
       "6039814   486  TRANSFER   214793.32  C2140495649      214793.32   \n",
       "6362556   738  TRANSFER   814689.88  C2029041842      814689.88   \n",
       "\n",
       "         newbalanceOrig     nameDest  oldbalanceDest  newbalanceDest  isFraud  \\\n",
       "1030443             0.0  C1714931087             0.0             0.0        1   \n",
       "6039814             0.0   C423543548             0.0             0.0        1   \n",
       "6362556             0.0  C1023330867             0.0             0.0        1   \n",
       "\n",
       "         isFlaggedFraud  \n",
       "1030443               0  \n",
       "6039814               0  \n",
       "6362556               0  "
      ]
     },
     "execution_count": 20,
     "metadata": {},
     "output_type": "execute_result"
    }
   ],
   "source": [
    "print(\"\\nFraudulent TRANSFER whose destination are origin of genuine CASH_OUTs \")\n",
    "dfFraudTransfer=df[(df.isFraud==1)&(df.type=='TRANSFER')]\n",
    "dfNotFraud=df[df.isFraud==0]\n",
    "dfFraudTransfer.loc[dfFraudTransfer.nameDest.\\\n",
    "isin(dfNotFraud.loc[dfNotFraud.type == 'CASH_OUT'].nameOrig.drop_duplicates())]"
   ]
  },
  {
   "cell_type": "code",
   "execution_count": 21,
   "metadata": {
    "execution": {
     "iopub.execute_input": "2022-06-27T17:23:05.814850Z",
     "iopub.status.busy": "2022-06-27T17:23:05.814109Z",
     "iopub.status.idle": "2022-06-27T17:23:06.879407Z",
     "shell.execute_reply": "2022-06-27T17:23:06.878123Z",
     "shell.execute_reply.started": "2022-06-27T17:23:05.814818Z"
    }
   },
   "outputs": [
    {
     "name": "stdout",
     "output_type": "stream",
     "text": [
      "         step      type    amount     nameOrig  oldbalanceOrg  newbalanceOrig  \\\n",
      "6149940   546  CASH_OUT  18091.05  C1714931087       197227.0       179135.95   \n",
      "\n",
      "            nameDest  oldbalanceDest  newbalanceDest  isFraud  isFlaggedFraud  \n",
      "6149940  C1339132632        66177.84        84268.89        0               0  \n"
     ]
    }
   ],
   "source": [
    "print(df[df['nameOrig']=='C1714931087'])\n",
    "#Only in this case the cashout is taking place after the transfer "
   ]
  },
  {
   "cell_type": "code",
   "execution_count": 22,
   "metadata": {
    "execution": {
     "iopub.execute_input": "2022-06-27T17:23:06.881285Z",
     "iopub.status.busy": "2022-06-27T17:23:06.880827Z",
     "iopub.status.idle": "2022-06-27T17:23:07.898758Z",
     "shell.execute_reply": "2022-06-27T17:23:07.897754Z",
     "shell.execute_reply.started": "2022-06-27T17:23:06.881241Z"
    }
   },
   "outputs": [
    {
     "name": "stdout",
     "output_type": "stream",
     "text": [
      "         step      type     amount    nameOrig  oldbalanceOrg  newbalanceOrig  \\\n",
      "2186261   185  CASH_OUT  214555.85  C423543548            0.0             0.0   \n",
      "\n",
      "            nameDest  oldbalanceDest  newbalanceDest  isFraud  isFlaggedFraud  \n",
      "2186261  C1066927674      4575179.83      4789735.69        0               0  \n"
     ]
    }
   ],
   "source": [
    "print(df[df['nameOrig']=='C423543548'])"
   ]
  },
  {
   "cell_type": "markdown",
   "metadata": {},
   "source": [
    "Accordingly nameOrig and nameDest does not seem to have much significance so we can drop these."
   ]
  },
  {
   "cell_type": "code",
   "execution_count": 23,
   "metadata": {
    "execution": {
     "iopub.execute_input": "2022-06-27T17:23:07.903388Z",
     "iopub.status.busy": "2022-06-27T17:23:07.901997Z",
     "iopub.status.idle": "2022-06-27T17:23:08.936673Z",
     "shell.execute_reply": "2022-06-27T17:23:08.935572Z",
     "shell.execute_reply.started": "2022-06-27T17:23:07.903338Z"
    }
   },
   "outputs": [
    {
     "name": "stdout",
     "output_type": "stream",
     "text": [
      "         step      type    amount     nameOrig  oldbalanceOrg  newbalanceOrig  \\\n",
      "1168398   132  CASH_OUT  29084.28  C1023330867        51999.0        22914.72   \n",
      "\n",
      "            nameDest  oldbalanceDest  newbalanceDest  isFraud  isFlaggedFraud  \n",
      "1168398  C1422447255             0.0        29084.28        0               0  \n"
     ]
    }
   ],
   "source": [
    "print(df[df['nameOrig']=='C1023330867'])"
   ]
  },
  {
   "cell_type": "markdown",
   "metadata": {},
   "source": [
    "# Data Cleaning"
   ]
  },
  {
   "cell_type": "markdown",
   "metadata": {},
   "source": []
  },
  {
   "cell_type": "code",
   "execution_count": 4,
   "metadata": {
    "execution": {
     "iopub.execute_input": "2022-06-27T17:23:08.939561Z",
     "iopub.status.busy": "2022-06-27T17:23:08.938318Z",
     "iopub.status.idle": "2022-06-27T17:23:11.294367Z",
     "shell.execute_reply": "2022-06-27T17:23:11.293149Z",
     "shell.execute_reply.started": "2022-06-27T17:23:08.939498Z"
    }
   },
   "outputs": [
    {
     "name": "stdout",
     "output_type": "stream",
     "text": [
      "    step      type     amount  oldbalanceOrg  newbalanceOrig  oldbalanceDest  \\\n",
      "2      1  TRANSFER     181.00          181.0             0.0             0.0   \n",
      "3      1  CASH_OUT     181.00          181.0             0.0         21182.0   \n",
      "15     1  CASH_OUT  229133.94        15325.0             0.0          5083.0   \n",
      "19     1  TRANSFER  215310.30          705.0             0.0         22425.0   \n",
      "24     1  TRANSFER  311685.89        10835.0             0.0          6267.0   \n",
      "\n",
      "    newbalanceDest  \n",
      "2             0.00  \n",
      "3             0.00  \n",
      "15        51513.44  \n",
      "19            0.00  \n",
      "24      2719172.89  \n",
      "\n",
      "\n",
      "\n",
      "\n",
      "\n",
      "2     1\n",
      "3     1\n",
      "15    0\n",
      "19    0\n",
      "24    0\n",
      "Name: isFraud, dtype: int64\n"
     ]
    }
   ],
   "source": [
    "X = df[(df.type == 'TRANSFER') | (df.type == 'CASH_OUT')]\n",
    "Y=X['isFraud']\n",
    "X=X.drop(['isFraud', 'nameDest','nameOrig','isFlaggedFraud'], axis=1)\n",
    "print(X.head())\n",
    "print('\\n\\n\\n\\n')\n",
    "print(Y.head())"
   ]
  },
  {
   "cell_type": "markdown",
   "metadata": {},
   "source": [
    "**Binary encoding of TRANSFER and CASH_OUT**"
   ]
  },
  {
   "cell_type": "code",
   "execution_count": 5,
   "metadata": {
    "execution": {
     "iopub.execute_input": "2022-06-27T17:23:11.296330Z",
     "iopub.status.busy": "2022-06-27T17:23:11.295825Z",
     "iopub.status.idle": "2022-06-27T17:23:12.580271Z",
     "shell.execute_reply": "2022-06-27T17:23:12.579394Z",
     "shell.execute_reply.started": "2022-06-27T17:23:11.296283Z"
    }
   },
   "outputs": [
    {
     "data": {
      "text/html": [
       "<div>\n",
       "<style scoped>\n",
       "    .dataframe tbody tr th:only-of-type {\n",
       "        vertical-align: middle;\n",
       "    }\n",
       "\n",
       "    .dataframe tbody tr th {\n",
       "        vertical-align: top;\n",
       "    }\n",
       "\n",
       "    .dataframe thead th {\n",
       "        text-align: right;\n",
       "    }\n",
       "</style>\n",
       "<table border=\"1\" class=\"dataframe\">\n",
       "  <thead>\n",
       "    <tr style=\"text-align: right;\">\n",
       "      <th></th>\n",
       "      <th>step</th>\n",
       "      <th>type</th>\n",
       "      <th>amount</th>\n",
       "      <th>oldbalanceOrg</th>\n",
       "      <th>newbalanceOrig</th>\n",
       "      <th>oldbalanceDest</th>\n",
       "      <th>newbalanceDest</th>\n",
       "    </tr>\n",
       "  </thead>\n",
       "  <tbody>\n",
       "    <tr>\n",
       "      <th>2</th>\n",
       "      <td>1</td>\n",
       "      <td>0</td>\n",
       "      <td>181.00</td>\n",
       "      <td>181.00</td>\n",
       "      <td>0.0</td>\n",
       "      <td>0.00</td>\n",
       "      <td>0.00</td>\n",
       "    </tr>\n",
       "    <tr>\n",
       "      <th>3</th>\n",
       "      <td>1</td>\n",
       "      <td>1</td>\n",
       "      <td>181.00</td>\n",
       "      <td>181.00</td>\n",
       "      <td>0.0</td>\n",
       "      <td>21182.00</td>\n",
       "      <td>0.00</td>\n",
       "    </tr>\n",
       "    <tr>\n",
       "      <th>15</th>\n",
       "      <td>1</td>\n",
       "      <td>1</td>\n",
       "      <td>229133.94</td>\n",
       "      <td>15325.00</td>\n",
       "      <td>0.0</td>\n",
       "      <td>5083.00</td>\n",
       "      <td>51513.44</td>\n",
       "    </tr>\n",
       "    <tr>\n",
       "      <th>19</th>\n",
       "      <td>1</td>\n",
       "      <td>0</td>\n",
       "      <td>215310.30</td>\n",
       "      <td>705.00</td>\n",
       "      <td>0.0</td>\n",
       "      <td>22425.00</td>\n",
       "      <td>0.00</td>\n",
       "    </tr>\n",
       "    <tr>\n",
       "      <th>24</th>\n",
       "      <td>1</td>\n",
       "      <td>0</td>\n",
       "      <td>311685.89</td>\n",
       "      <td>10835.00</td>\n",
       "      <td>0.0</td>\n",
       "      <td>6267.00</td>\n",
       "      <td>2719172.89</td>\n",
       "    </tr>\n",
       "    <tr>\n",
       "      <th>...</th>\n",
       "      <td>...</td>\n",
       "      <td>...</td>\n",
       "      <td>...</td>\n",
       "      <td>...</td>\n",
       "      <td>...</td>\n",
       "      <td>...</td>\n",
       "      <td>...</td>\n",
       "    </tr>\n",
       "    <tr>\n",
       "      <th>6362615</th>\n",
       "      <td>743</td>\n",
       "      <td>1</td>\n",
       "      <td>339682.13</td>\n",
       "      <td>339682.13</td>\n",
       "      <td>0.0</td>\n",
       "      <td>0.00</td>\n",
       "      <td>339682.13</td>\n",
       "    </tr>\n",
       "    <tr>\n",
       "      <th>6362616</th>\n",
       "      <td>743</td>\n",
       "      <td>0</td>\n",
       "      <td>6311409.28</td>\n",
       "      <td>6311409.28</td>\n",
       "      <td>0.0</td>\n",
       "      <td>0.00</td>\n",
       "      <td>0.00</td>\n",
       "    </tr>\n",
       "    <tr>\n",
       "      <th>6362617</th>\n",
       "      <td>743</td>\n",
       "      <td>1</td>\n",
       "      <td>6311409.28</td>\n",
       "      <td>6311409.28</td>\n",
       "      <td>0.0</td>\n",
       "      <td>68488.84</td>\n",
       "      <td>6379898.11</td>\n",
       "    </tr>\n",
       "    <tr>\n",
       "      <th>6362618</th>\n",
       "      <td>743</td>\n",
       "      <td>0</td>\n",
       "      <td>850002.52</td>\n",
       "      <td>850002.52</td>\n",
       "      <td>0.0</td>\n",
       "      <td>0.00</td>\n",
       "      <td>0.00</td>\n",
       "    </tr>\n",
       "    <tr>\n",
       "      <th>6362619</th>\n",
       "      <td>743</td>\n",
       "      <td>1</td>\n",
       "      <td>850002.52</td>\n",
       "      <td>850002.52</td>\n",
       "      <td>0.0</td>\n",
       "      <td>6510099.11</td>\n",
       "      <td>7360101.63</td>\n",
       "    </tr>\n",
       "  </tbody>\n",
       "</table>\n",
       "<p>2770409 rows × 7 columns</p>\n",
       "</div>"
      ],
      "text/plain": [
       "         step  type      amount  oldbalanceOrg  newbalanceOrig  \\\n",
       "2           1     0      181.00         181.00             0.0   \n",
       "3           1     1      181.00         181.00             0.0   \n",
       "15          1     1   229133.94       15325.00             0.0   \n",
       "19          1     0   215310.30         705.00             0.0   \n",
       "24          1     0   311685.89       10835.00             0.0   \n",
       "...       ...   ...         ...            ...             ...   \n",
       "6362615   743     1   339682.13      339682.13             0.0   \n",
       "6362616   743     0  6311409.28     6311409.28             0.0   \n",
       "6362617   743     1  6311409.28     6311409.28             0.0   \n",
       "6362618   743     0   850002.52      850002.52             0.0   \n",
       "6362619   743     1   850002.52      850002.52             0.0   \n",
       "\n",
       "         oldbalanceDest  newbalanceDest  \n",
       "2                  0.00            0.00  \n",
       "3              21182.00            0.00  \n",
       "15              5083.00        51513.44  \n",
       "19             22425.00            0.00  \n",
       "24              6267.00      2719172.89  \n",
       "...                 ...             ...  \n",
       "6362615            0.00       339682.13  \n",
       "6362616            0.00            0.00  \n",
       "6362617        68488.84      6379898.11  \n",
       "6362618            0.00            0.00  \n",
       "6362619      6510099.11      7360101.63  \n",
       "\n",
       "[2770409 rows x 7 columns]"
      ]
     },
     "execution_count": 5,
     "metadata": {},
     "output_type": "execute_result"
    }
   ],
   "source": [
    "X.loc[X.type=='TRANSFER','type']=0\n",
    "X.loc[X.type=='CASH_OUT','type']=1\n",
    "X.type=X.type.astype(int)\n",
    "X"
   ]
  },
  {
   "cell_type": "markdown",
   "metadata": {},
   "source": [
    "# Additional Features"
   ]
  },
  {
   "cell_type": "code",
   "execution_count": 6,
   "metadata": {
    "execution": {
     "iopub.execute_input": "2022-06-27T17:23:12.581766Z",
     "iopub.status.busy": "2022-06-27T17:23:12.581478Z",
     "iopub.status.idle": "2022-06-27T17:23:12.751869Z",
     "shell.execute_reply": "2022-06-27T17:23:12.751181Z",
     "shell.execute_reply.started": "2022-06-27T17:23:12.581740Z"
    }
   },
   "outputs": [
    {
     "name": "stdout",
     "output_type": "stream",
     "text": [
      "\n",
      "\n",
      "\n"
     ]
    },
    {
     "data": {
      "text/html": [
       "<div>\n",
       "<style scoped>\n",
       "    .dataframe tbody tr th:only-of-type {\n",
       "        vertical-align: middle;\n",
       "    }\n",
       "\n",
       "    .dataframe tbody tr th {\n",
       "        vertical-align: top;\n",
       "    }\n",
       "\n",
       "    .dataframe thead th {\n",
       "        text-align: right;\n",
       "    }\n",
       "</style>\n",
       "<table border=\"1\" class=\"dataframe\">\n",
       "  <thead>\n",
       "    <tr style=\"text-align: right;\">\n",
       "      <th></th>\n",
       "      <th>step</th>\n",
       "      <th>type</th>\n",
       "      <th>amount</th>\n",
       "      <th>oldbalanceOrg</th>\n",
       "      <th>newbalanceOrig</th>\n",
       "      <th>oldbalanceDest</th>\n",
       "      <th>newbalanceDest</th>\n",
       "      <th>errorBalanceOrig</th>\n",
       "      <th>errorBalanceDest</th>\n",
       "    </tr>\n",
       "  </thead>\n",
       "  <tbody>\n",
       "    <tr>\n",
       "      <th>2</th>\n",
       "      <td>1</td>\n",
       "      <td>0</td>\n",
       "      <td>181.00</td>\n",
       "      <td>181.0</td>\n",
       "      <td>0.0</td>\n",
       "      <td>0.0</td>\n",
       "      <td>0.00</td>\n",
       "      <td>0.00</td>\n",
       "      <td>181.0</td>\n",
       "    </tr>\n",
       "    <tr>\n",
       "      <th>3</th>\n",
       "      <td>1</td>\n",
       "      <td>1</td>\n",
       "      <td>181.00</td>\n",
       "      <td>181.0</td>\n",
       "      <td>0.0</td>\n",
       "      <td>21182.0</td>\n",
       "      <td>0.00</td>\n",
       "      <td>0.00</td>\n",
       "      <td>21363.0</td>\n",
       "    </tr>\n",
       "    <tr>\n",
       "      <th>15</th>\n",
       "      <td>1</td>\n",
       "      <td>1</td>\n",
       "      <td>229133.94</td>\n",
       "      <td>15325.0</td>\n",
       "      <td>0.0</td>\n",
       "      <td>5083.0</td>\n",
       "      <td>51513.44</td>\n",
       "      <td>213808.94</td>\n",
       "      <td>182703.5</td>\n",
       "    </tr>\n",
       "    <tr>\n",
       "      <th>19</th>\n",
       "      <td>1</td>\n",
       "      <td>0</td>\n",
       "      <td>215310.30</td>\n",
       "      <td>705.0</td>\n",
       "      <td>0.0</td>\n",
       "      <td>22425.0</td>\n",
       "      <td>0.00</td>\n",
       "      <td>214605.30</td>\n",
       "      <td>237735.3</td>\n",
       "    </tr>\n",
       "    <tr>\n",
       "      <th>24</th>\n",
       "      <td>1</td>\n",
       "      <td>0</td>\n",
       "      <td>311685.89</td>\n",
       "      <td>10835.0</td>\n",
       "      <td>0.0</td>\n",
       "      <td>6267.0</td>\n",
       "      <td>2719172.89</td>\n",
       "      <td>300850.89</td>\n",
       "      <td>-2401220.0</td>\n",
       "    </tr>\n",
       "  </tbody>\n",
       "</table>\n",
       "</div>"
      ],
      "text/plain": [
       "    step  type     amount  oldbalanceOrg  newbalanceOrig  oldbalanceDest  \\\n",
       "2      1     0     181.00          181.0             0.0             0.0   \n",
       "3      1     1     181.00          181.0             0.0         21182.0   \n",
       "15     1     1  229133.94        15325.0             0.0          5083.0   \n",
       "19     1     0  215310.30          705.0             0.0         22425.0   \n",
       "24     1     0  311685.89        10835.0             0.0          6267.0   \n",
       "\n",
       "    newbalanceDest  errorBalanceOrig  errorBalanceDest  \n",
       "2             0.00              0.00             181.0  \n",
       "3             0.00              0.00           21363.0  \n",
       "15        51513.44         213808.94          182703.5  \n",
       "19            0.00         214605.30          237735.3  \n",
       "24      2719172.89         300850.89        -2401220.0  "
      ]
     },
     "execution_count": 6,
     "metadata": {},
     "output_type": "execute_result"
    }
   ],
   "source": [
    "X['errorBalanceOrig'] = X.newbalanceOrig + X.amount - X.oldbalanceOrg\n",
    "X['errorBalanceDest'] = X.oldbalanceDest + X.amount - X.newbalanceDest\n",
    "X[X['errorBalanceOrig']==X['errorBalanceOrig'].max()] \n",
    "print('\\n\\n')\n",
    "X.head()"
   ]
  },
  {
   "cell_type": "code",
   "execution_count": 7,
   "metadata": {
    "execution": {
     "iopub.execute_input": "2022-06-27T17:23:12.753786Z",
     "iopub.status.busy": "2022-06-27T17:23:12.753215Z",
     "iopub.status.idle": "2022-06-27T17:24:08.409520Z",
     "shell.execute_reply": "2022-06-27T17:24:08.408191Z",
     "shell.execute_reply.started": "2022-06-27T17:23:12.753740Z"
    }
   },
   "outputs": [
    {
     "name": "stdout",
     "output_type": "stream",
     "text": [
      "\n",
      " The number of accounts in TRANSFER and CASH_OUT based on nameOrig 2770409\n",
      "\n",
      " The number of unique accounts in TRANSFER AND CASHOUT based on nameOrig 2768630\n"
     ]
    }
   ],
   "source": [
    "print('\\n The number of accounts in TRANSFER and CASH_OUT based on nameOrig {}'.format\\\n",
    "(len(df[((df.type=='TRANSFER') |(df.type=='CASH_OUT'))])))\n",
    "\n",
    "print('\\n The number of unique accounts in TRANSFER AND CASHOUT based on nameOrig {}'.format\\\n",
    "(len(df[((df.type=='TRANSFER') |(df.type=='CASH_OUT'))].groupby(df['nameOrig']))))"
   ]
  },
  {
   "cell_type": "code",
   "execution_count": 8,
   "metadata": {
    "execution": {
     "iopub.execute_input": "2022-06-27T17:24:08.467870Z",
     "iopub.status.busy": "2022-06-27T17:24:08.467078Z",
     "iopub.status.idle": "2022-06-27T17:24:08.636301Z",
     "shell.execute_reply": "2022-06-27T17:24:08.635105Z",
     "shell.execute_reply.started": "2022-06-27T17:24:08.467821Z"
    }
   },
   "outputs": [
    {
     "data": {
      "image/png": "[encoded data removed]",
      "text/plain": [
       "<Figure size 432x288 with 1 Axes>"
      ]
     },
     "metadata": {
      "needs_background": "light"
     },
     "output_type": "display_data"
    }
   ],
   "source": [
    "count_classes=pd.value_counts(Y)\n",
    "count_classes.plot(kind='bar', rot=0,color=['red'])\n",
    "plt.ylabel('Number of Transactions')\n",
    "plt.xlabel('Fraud or not')\n",
    "LABELS=['NORMAL','FRAUD']\n",
    "plt.xticks(range(2),LABELS)\n",
    "plt.show()"
   ]
  },
  {
   "cell_type": "code",
   "execution_count": 29,
   "metadata": {
    "execution": {
     "iopub.execute_input": "2022-06-27T17:24:08.638668Z",
     "iopub.status.busy": "2022-06-27T17:24:08.638053Z",
     "iopub.status.idle": "2022-06-27T17:24:08.646979Z",
     "shell.execute_reply": "2022-06-27T17:24:08.645812Z",
     "shell.execute_reply.started": "2022-06-27T17:24:08.638619Z"
    }
   },
   "outputs": [
    {
     "data": {
      "text/plain": [
       "(2770409, 9)"
      ]
     },
     "execution_count": 29,
     "metadata": {},
     "output_type": "execute_result"
    }
   ],
   "source": [
    "X.shape"
   ]
  },
  {
   "cell_type": "markdown",
   "metadata": {},
   "source": [
    "**Correlation of the independent variables**\n",
    "1. oldbalanceOrg and newbalanceOrig are highly correlated  (oldbalanceOrig might give some insight about the fraud transaction)\n",
    "2. oldbalanceDest and newbalanceDest are highly correlated (newBalanceDest might give some insight about the fraud transaction) \n",
    "3. amount and errorBalanceOrig are highly correlated (We can consider amount)"
   ]
  },
  {
   "cell_type": "code",
   "execution_count": 30,
   "metadata": {
    "execution": {
     "iopub.execute_input": "2022-06-27T17:24:08.651963Z",
     "iopub.status.busy": "2022-06-27T17:24:08.649644Z",
     "iopub.status.idle": "2022-06-27T17:24:10.030067Z",
     "shell.execute_reply": "2022-06-27T17:24:10.028888Z",
     "shell.execute_reply.started": "2022-06-27T17:24:08.651924Z"
    }
   },
   "outputs": [
    {
     "data": {
      "text/plain": [
       "<AxesSubplot:>"
      ]
     },
     "execution_count": 30,
     "metadata": {},
     "output_type": "execute_result"
    },
    {
     "data": {
      "image/png": "[encoded data removed]",
      "text/plain": [
       "<Figure size 576x576 with 2 Axes>"
      ]
     },
     "metadata": {
      "needs_background": "light"
     },
     "output_type": "display_data"
    }
   ],
   "source": [
    "plt.figure(figsize=(8,8))\n",
    "sns.heatmap(X.corr(), annot=True)"
   ]
  },
  {
   "cell_type": "markdown",
   "metadata": {},
   "source": [
    "**Without removing the highly corelated independent variables applying RandomForest, takes 20-30mins. This gives the best accuracy with high precision and recall. Recall must be given higher weightage here as recalll tells us more about the transaction being is fraud and out model predics it wrong in this case the bank or the one lending money might face huge loss.**"
   ]
  },
  {
   "cell_type": "code",
   "execution_count": 12,
   "metadata": {
    "execution": {
     "iopub.execute_input": "2022-06-27T17:24:10.031568Z",
     "iopub.status.busy": "2022-06-27T17:24:10.031259Z",
     "iopub.status.idle": "2022-06-27T17:24:10.695815Z",
     "shell.execute_reply": "2022-06-27T17:24:10.694913Z",
     "shell.execute_reply.started": "2022-06-27T17:24:10.031540Z"
    }
   },
   "outputs": [],
   "source": [
    "x_train,x_test,y_train,y_test=train_test_split(X,Y,test_size=0.20,random_state=42)"
   ]
  },
  {
   "cell_type": "code",
   "execution_count": 35,
   "metadata": {
    "execution": {
     "iopub.execute_input": "2022-06-27T17:48:21.182775Z",
     "iopub.status.busy": "2022-06-27T17:48:21.182358Z",
     "iopub.status.idle": "2022-06-27T17:48:29.377570Z",
     "shell.execute_reply": "2022-06-27T17:48:29.376102Z",
     "shell.execute_reply.started": "2022-06-27T17:48:21.182739Z"
    }
   },
   "outputs": [],
   "source": [
    "rf_classifier=RandomForestClassifier().fit(x_train,y_train)"
   ]
  },
  {
   "cell_type": "markdown",
   "metadata": {},
   "source": [
    "**Only 0.29% is fraud out of the total data. 99.71% data is non fraudulent **  "
   ]
  },
  {
   "cell_type": "code",
   "execution_count": 36,
   "metadata": {},
   "outputs": [
    {
     "name": "stdout",
     "output_type": "stream",
     "text": [
      "[[552436      0]\n",
      " [    11   1635]]\n",
      "0.999980147342812\n",
      "              precision    recall  f1-score   support\n",
      "\n",
      "           0       1.00      1.00      1.00    552436\n",
      "           1       1.00      0.99      1.00      1646\n",
      "\n",
      "    accuracy                           1.00    554082\n",
      "   macro avg       1.00      1.00      1.00    554082\n",
      "weighted avg       1.00      1.00      1.00    554082\n",
      "\n"
     ]
    }
   ],
   "source": [
    "prediction1=rf_classifier.predict(x_test)\n",
    "print(confusion_matrix(y_test,prediction1))\n",
    "print(accuracy_score(y_test,prediction1))\n",
    "print(classification_report(y_test,prediction1))"
   ]
  },
  {
   "cell_type": "markdown",
   "metadata": {},
   "source": [
    "**Feature Importances**"
   ]
  },
  {
   "cell_type": "code",
   "execution_count": 37,
   "metadata": {},
   "outputs": [
    {
     "data": {
      "text/html": [
       "<div>\n",
       "<style scoped>\n",
       "    .dataframe tbody tr th:only-of-type {\n",
       "        vertical-align: middle;\n",
       "    }\n",
       "\n",
       "    .dataframe tbody tr th {\n",
       "        vertical-align: top;\n",
       "    }\n",
       "\n",
       "    .dataframe thead th {\n",
       "        text-align: right;\n",
       "    }\n",
       "</style>\n",
       "<table border=\"1\" class=\"dataframe\">\n",
       "  <thead>\n",
       "    <tr style=\"text-align: right;\">\n",
       "      <th></th>\n",
       "      <th>importance</th>\n",
       "    </tr>\n",
       "  </thead>\n",
       "  <tbody>\n",
       "    <tr>\n",
       "      <th>newbalanceOrig</th>\n",
       "      <td>0.396945</td>\n",
       "    </tr>\n",
       "    <tr>\n",
       "      <th>oldbalanceOrg</th>\n",
       "      <td>0.103565</td>\n",
       "    </tr>\n",
       "    <tr>\n",
       "      <th>errorBalanceOrig</th>\n",
       "      <td>0.091903</td>\n",
       "    </tr>\n",
       "    <tr>\n",
       "      <th>newbalanceDest</th>\n",
       "      <td>0.089487</td>\n",
       "    </tr>\n",
       "    <tr>\n",
       "      <th>type</th>\n",
       "      <td>0.087592</td>\n",
       "    </tr>\n",
       "    <tr>\n",
       "      <th>amount</th>\n",
       "      <td>0.073925</td>\n",
       "    </tr>\n",
       "    <tr>\n",
       "      <th>oldbalanceDest</th>\n",
       "      <td>0.059121</td>\n",
       "    </tr>\n",
       "    <tr>\n",
       "      <th>step</th>\n",
       "      <td>0.051540</td>\n",
       "    </tr>\n",
       "    <tr>\n",
       "      <th>errorBalanceDest</th>\n",
       "      <td>0.045921</td>\n",
       "    </tr>\n",
       "  </tbody>\n",
       "</table>\n",
       "</div>"
      ],
      "text/plain": [
       "                  importance\n",
       "newbalanceOrig      0.396945\n",
       "oldbalanceOrg       0.103565\n",
       "errorBalanceOrig    0.091903\n",
       "newbalanceDest      0.089487\n",
       "type                0.087592\n",
       "amount              0.073925\n",
       "oldbalanceDest      0.059121\n",
       "step                0.051540\n",
       "errorBalanceDest    0.045921"
      ]
     },
     "execution_count": 37,
     "metadata": {},
     "output_type": "execute_result"
    }
   ],
   "source": [
    "feature_importances=pd.DataFrame(rf_classifier.feature_importances_, index=x_train.columns,\\\n",
    "                                 columns=['importance']).sort_values('importance', ascending=False)\n",
    "feature_importances"
   ]
  },
  {
   "cell_type": "markdown",
   "metadata": {},
   "source": [
    "**Without removing the highly corelated columns applying DecisionTreeClassifier**"
   ]
  },
  {
   "cell_type": "code",
   "execution_count": 31,
   "metadata": {
    "execution": {
     "iopub.execute_input": "2022-06-27T17:35:43.569955Z",
     "iopub.status.busy": "2022-06-27T17:35:43.568902Z",
     "iopub.status.idle": "2022-06-27T17:36:12.321597Z",
     "shell.execute_reply": "2022-06-27T17:36:12.320715Z",
     "shell.execute_reply.started": "2022-06-27T17:35:43.569916Z"
    }
   },
   "outputs": [
    {
     "name": "stdout",
     "output_type": "stream",
     "text": [
      "0.9999657090466754\n"
     ]
    }
   ],
   "source": [
    "\n",
    "dt_classifier= tree.DecisionTreeClassifier().fit(x_train,y_train)\n",
    "print(dt_classifier.score(x_test,y_test))"
   ]
  },
  {
   "cell_type": "code",
   "execution_count": 32,
   "metadata": {},
   "outputs": [
    {
     "name": "stdout",
     "output_type": "stream",
     "text": [
      "[[552426     10]\n",
      " [     9   1637]]\n",
      "0.9999657090466754\n",
      "              precision    recall  f1-score   support\n",
      "\n",
      "           0       1.00      1.00      1.00    552436\n",
      "           1       0.99      0.99      0.99      1646\n",
      "\n",
      "    accuracy                           1.00    554082\n",
      "   macro avg       1.00      1.00      1.00    554082\n",
      "weighted avg       1.00      1.00      1.00    554082\n",
      "\n"
     ]
    }
   ],
   "source": [
    "prediction2=dt_classifier.predict(x_test)\n",
    "print(confusion_matrix(y_test,prediction2))\n",
    "print(accuracy_score(y_test,prediction2))\n",
    "print(classification_report(y_test,prediction2))"
   ]
  },
  {
   "cell_type": "markdown",
   "metadata": {},
   "source": [
    "**Without removing the highly corelated columns applying LogisticRegression, recall and precision both come out to be very low in this case**"
   ]
  },
  {
   "cell_type": "code",
   "execution_count": 36,
   "metadata": {},
   "outputs": [
    {
     "data": {
      "text/plain": [
       "0.996995029616555"
      ]
     },
     "execution_count": 36,
     "metadata": {},
     "output_type": "execute_result"
    }
   ],
   "source": [
    "logistic_regression= LogisticRegression().fit(x_train,y_train)\n",
    "logistic_regression.score(x_test,y_test)"
   ]
  },
  {
   "cell_type": "code",
   "execution_count": 37,
   "metadata": {},
   "outputs": [
    {
     "name": "stdout",
     "output_type": "stream",
     "text": [
      "[[551690    746]\n",
      " [   919    727]]\n",
      "0.996995029616555\n",
      "              precision    recall  f1-score   support\n",
      "\n",
      "           0       1.00      1.00      1.00    552436\n",
      "           1       0.49      0.44      0.47      1646\n",
      "\n",
      "    accuracy                           1.00    554082\n",
      "   macro avg       0.75      0.72      0.73    554082\n",
      "weighted avg       1.00      1.00      1.00    554082\n",
      "\n"
     ]
    }
   ],
   "source": [
    "prediction3=logistic_regression.predict(x_test)\n",
    "from sklearn.metrics import confusion_matrix,classification_report,accuracy_score\n",
    "print(confusion_matrix(y_test,prediction3))\n",
    "print(accuracy_score(y_test,prediction3))\n",
    "print(classification_report(y_test,prediction3))"
   ]
  },
  {
   "cell_type": "markdown",
   "metadata": {},
   "source": [
    "**Without removing the highly corelated columns applying SupportVectorMachine, takes nearly 2hrs**"
   ]
  },
  {
   "cell_type": "code",
   "execution_count": null,
   "metadata": {},
   "outputs": [],
   "source": [
    "svm= SVC().fit(x_train,y_train)\n",
    "svm.score(x_test,y_test)"
   ]
  },
  {
   "cell_type": "markdown",
   "metadata": {},
   "source": [
    "Removing highly correlated independent variables"
   ]
  },
  {
   "cell_type": "code",
   "execution_count": 33,
   "metadata": {},
   "outputs": [],
   "source": [
    "X_new=X.drop(['amount','oldbalanceDest'],axis=1)"
   ]
  },
  {
   "cell_type": "code",
   "execution_count": 34,
   "metadata": {},
   "outputs": [
    {
     "data": {
      "text/html": [
       "<div>\n",
       "<style scoped>\n",
       "    .dataframe tbody tr th:only-of-type {\n",
       "        vertical-align: middle;\n",
       "    }\n",
       "\n",
       "    .dataframe tbody tr th {\n",
       "        vertical-align: top;\n",
       "    }\n",
       "\n",
       "    .dataframe thead th {\n",
       "        text-align: right;\n",
       "    }\n",
       "</style>\n",
       "<table border=\"1\" class=\"dataframe\">\n",
       "  <thead>\n",
       "    <tr style=\"text-align: right;\">\n",
       "      <th></th>\n",
       "      <th>step</th>\n",
       "      <th>type</th>\n",
       "      <th>oldbalanceOrg</th>\n",
       "      <th>newbalanceOrig</th>\n",
       "      <th>newbalanceDest</th>\n",
       "      <th>errorBalanceOrig</th>\n",
       "      <th>errorBalanceDest</th>\n",
       "    </tr>\n",
       "  </thead>\n",
       "  <tbody>\n",
       "    <tr>\n",
       "      <th>2</th>\n",
       "      <td>1</td>\n",
       "      <td>0</td>\n",
       "      <td>181.00</td>\n",
       "      <td>0.0</td>\n",
       "      <td>0.00</td>\n",
       "      <td>0.00</td>\n",
       "      <td>1.810000e+02</td>\n",
       "    </tr>\n",
       "    <tr>\n",
       "      <th>3</th>\n",
       "      <td>1</td>\n",
       "      <td>1</td>\n",
       "      <td>181.00</td>\n",
       "      <td>0.0</td>\n",
       "      <td>0.00</td>\n",
       "      <td>0.00</td>\n",
       "      <td>2.136300e+04</td>\n",
       "    </tr>\n",
       "    <tr>\n",
       "      <th>15</th>\n",
       "      <td>1</td>\n",
       "      <td>1</td>\n",
       "      <td>15325.00</td>\n",
       "      <td>0.0</td>\n",
       "      <td>51513.44</td>\n",
       "      <td>213808.94</td>\n",
       "      <td>1.827035e+05</td>\n",
       "    </tr>\n",
       "    <tr>\n",
       "      <th>19</th>\n",
       "      <td>1</td>\n",
       "      <td>0</td>\n",
       "      <td>705.00</td>\n",
       "      <td>0.0</td>\n",
       "      <td>0.00</td>\n",
       "      <td>214605.30</td>\n",
       "      <td>2.377353e+05</td>\n",
       "    </tr>\n",
       "    <tr>\n",
       "      <th>24</th>\n",
       "      <td>1</td>\n",
       "      <td>0</td>\n",
       "      <td>10835.00</td>\n",
       "      <td>0.0</td>\n",
       "      <td>2719172.89</td>\n",
       "      <td>300850.89</td>\n",
       "      <td>-2.401220e+06</td>\n",
       "    </tr>\n",
       "    <tr>\n",
       "      <th>...</th>\n",
       "      <td>...</td>\n",
       "      <td>...</td>\n",
       "      <td>...</td>\n",
       "      <td>...</td>\n",
       "      <td>...</td>\n",
       "      <td>...</td>\n",
       "      <td>...</td>\n",
       "    </tr>\n",
       "    <tr>\n",
       "      <th>6362615</th>\n",
       "      <td>743</td>\n",
       "      <td>1</td>\n",
       "      <td>339682.13</td>\n",
       "      <td>0.0</td>\n",
       "      <td>339682.13</td>\n",
       "      <td>0.00</td>\n",
       "      <td>0.000000e+00</td>\n",
       "    </tr>\n",
       "    <tr>\n",
       "      <th>6362616</th>\n",
       "      <td>743</td>\n",
       "      <td>0</td>\n",
       "      <td>6311409.28</td>\n",
       "      <td>0.0</td>\n",
       "      <td>0.00</td>\n",
       "      <td>0.00</td>\n",
       "      <td>6.311409e+06</td>\n",
       "    </tr>\n",
       "    <tr>\n",
       "      <th>6362617</th>\n",
       "      <td>743</td>\n",
       "      <td>1</td>\n",
       "      <td>6311409.28</td>\n",
       "      <td>0.0</td>\n",
       "      <td>6379898.11</td>\n",
       "      <td>0.00</td>\n",
       "      <td>1.000000e-02</td>\n",
       "    </tr>\n",
       "    <tr>\n",
       "      <th>6362618</th>\n",
       "      <td>743</td>\n",
       "      <td>0</td>\n",
       "      <td>850002.52</td>\n",
       "      <td>0.0</td>\n",
       "      <td>0.00</td>\n",
       "      <td>0.00</td>\n",
       "      <td>8.500025e+05</td>\n",
       "    </tr>\n",
       "    <tr>\n",
       "      <th>6362619</th>\n",
       "      <td>743</td>\n",
       "      <td>1</td>\n",
       "      <td>850002.52</td>\n",
       "      <td>0.0</td>\n",
       "      <td>7360101.63</td>\n",
       "      <td>0.00</td>\n",
       "      <td>9.313226e-10</td>\n",
       "    </tr>\n",
       "  </tbody>\n",
       "</table>\n",
       "<p>2770409 rows × 7 columns</p>\n",
       "</div>"
      ],
      "text/plain": [
       "         step  type  oldbalanceOrg  newbalanceOrig  newbalanceDest  \\\n",
       "2           1     0         181.00             0.0            0.00   \n",
       "3           1     1         181.00             0.0            0.00   \n",
       "15          1     1       15325.00             0.0        51513.44   \n",
       "19          1     0         705.00             0.0            0.00   \n",
       "24          1     0       10835.00             0.0      2719172.89   \n",
       "...       ...   ...            ...             ...             ...   \n",
       "6362615   743     1      339682.13             0.0       339682.13   \n",
       "6362616   743     0     6311409.28             0.0            0.00   \n",
       "6362617   743     1     6311409.28             0.0      6379898.11   \n",
       "6362618   743     0      850002.52             0.0            0.00   \n",
       "6362619   743     1      850002.52             0.0      7360101.63   \n",
       "\n",
       "         errorBalanceOrig  errorBalanceDest  \n",
       "2                    0.00      1.810000e+02  \n",
       "3                    0.00      2.136300e+04  \n",
       "15              213808.94      1.827035e+05  \n",
       "19              214605.30      2.377353e+05  \n",
       "24              300850.89     -2.401220e+06  \n",
       "...                   ...               ...  \n",
       "6362615              0.00      0.000000e+00  \n",
       "6362616              0.00      6.311409e+06  \n",
       "6362617              0.00      1.000000e-02  \n",
       "6362618              0.00      8.500025e+05  \n",
       "6362619              0.00      9.313226e-10  \n",
       "\n",
       "[2770409 rows x 7 columns]"
      ]
     },
     "execution_count": 34,
     "metadata": {},
     "output_type": "execute_result"
    }
   ],
   "source": [
    "X_new"
   ]
  },
  {
   "cell_type": "code",
   "execution_count": 35,
   "metadata": {},
   "outputs": [],
   "source": [
    "\n",
    "x_new_train,x_new_test,y_new_train,y_new_test=train_test_split(X_new,Y,test_size=0.20,random_state=42)"
   ]
  },
  {
   "cell_type": "code",
   "execution_count": 36,
   "metadata": {},
   "outputs": [
    {
     "name": "stdout",
     "output_type": "stream",
     "text": [
      "[[552436      0]\n",
      " [    11   1635]]\n",
      "0.999980147342812\n",
      "              precision    recall  f1-score   support\n",
      "\n",
      "           0       1.00      1.00      1.00    552436\n",
      "           1       1.00      0.99      1.00      1646\n",
      "\n",
      "    accuracy                           1.00    554082\n",
      "   macro avg       1.00      1.00      1.00    554082\n",
      "weighted avg       1.00      1.00      1.00    554082\n",
      "\n"
     ]
    }
   ],
   "source": [
    "\n",
    "rf2_classifier=RandomForestClassifier().fit(x_new_train,y_new_train)\n",
    "prediction4=rf2_classifier.predict(x_new_test)\n",
    "print(confusion_matrix(y_new_test,prediction4))\n",
    "print(accuracy_score(y_new_test,prediction4))\n",
    "print(classification_report(y_new_test,prediction4))"
   ]
  },
  {
   "cell_type": "code",
   "execution_count": 39,
   "metadata": {},
   "outputs": [
    {
     "data": {
      "text/plain": [
       "0    2762196\n",
       "1       8213\n",
       "Name: isFraud, dtype: int64"
      ]
     },
     "execution_count": 39,
     "metadata": {},
     "output_type": "execute_result"
    }
   ],
   "source": [
    "Y.value_counts()"
   ]
  },
  {
   "cell_type": "code",
   "execution_count": 40,
   "metadata": {},
   "outputs": [
    {
     "data": {
      "text/plain": [
       "0.002964544224336551"
      ]
     },
     "execution_count": 40,
     "metadata": {},
     "output_type": "execute_result"
    }
   ],
   "source": [
    "8213/(2762196+8213)"
   ]
  },
  {
   "cell_type": "code",
   "execution_count": 61,
   "metadata": {},
   "outputs": [
    {
     "name": "stdout",
     "output_type": "stream",
     "text": [
      "^C\n"
     ]
    }
   ],
   "source": [
    "! pip install imbalanced-learn --user"
   ]
  },
  {
   "cell_type": "markdown",
   "metadata": {},
   "source": [
    "# Upsampling the data in ratio 98:2 i.e 98% is non fraud and 2% is fraud"
   ]
  },
  {
   "cell_type": "code",
   "execution_count": null,
   "metadata": {},
   "outputs": [],
   "source": [
    "smote= SMOTETomek(sampling_strategy=.02)\n",
    "X_sam, Y_sam= smote.fit_resample(X, Y)\n"
   ]
  },
  {
   "cell_type": "code",
   "execution_count": null,
   "metadata": {},
   "outputs": [],
   "source": [
    "print('Original DataSet shape {} '.format(Counter(Y)))\n",
    "print('Resampled DataSet shape {} '.format(Counter(Y_sam)))"
   ]
  },
  {
   "cell_type": "markdown",
   "metadata": {},
   "source": [
    "# Model training using DecisionTreeClassifier"
   ]
  },
  {
   "cell_type": "code",
   "execution_count": 19,
   "metadata": {},
   "outputs": [],
   "source": [
    "x_train_sam,x_test_sam,y_train_sam,y_test_sam=train_test_split(X_sam,Y_sam,test_size=0.20,random_state=42)"
   ]
  },
  {
   "cell_type": "code",
   "execution_count": 21,
   "metadata": {},
   "outputs": [],
   "source": [
    "dt2_classifier= tree.DecisionTreeClassifier().fit(x_train_sam, y_train_sam)"
   ]
  },
  {
   "cell_type": "code",
   "execution_count": 25,
   "metadata": {},
   "outputs": [
    {
     "name": "stdout",
     "output_type": "stream",
     "text": [
      "0.9999253942116566\n",
      "[[552005     18]\n",
      " [    24  10912]]\n",
      "              precision    recall  f1-score   support\n",
      "\n",
      "           0       1.00      1.00      1.00    552023\n",
      "           1       1.00      1.00      1.00     10936\n",
      "\n",
      "    accuracy                           1.00    562959\n",
      "   macro avg       1.00      1.00      1.00    562959\n",
      "weighted avg       1.00      1.00      1.00    562959\n",
      "\n"
     ]
    }
   ],
   "source": [
    "prediction5=dt2_classifier.predict(x_test_sam)\n",
    "print(accuracy_score(y_test_sam, prediction5))\n",
    "print(confusion_matrix(y_test_sam, prediction5))\n",
    "print(classification_report(y_test_sam, prediction5))"
   ]
  },
  {
   "cell_type": "markdown",
   "metadata": {},
   "source": [
    "# Model training with Random Forest Classifier"
   ]
  },
  {
   "cell_type": "code",
   "execution_count": 26,
   "metadata": {},
   "outputs": [
    {
     "name": "stdout",
     "output_type": "stream",
     "text": [
      "0.999952039136065\n",
      "[[552023      0]\n",
      " [    27  10909]]\n",
      "              precision    recall  f1-score   support\n",
      "\n",
      "           0       1.00      1.00      1.00    552023\n",
      "           1       1.00      1.00      1.00     10936\n",
      "\n",
      "    accuracy                           1.00    562959\n",
      "   macro avg       1.00      1.00      1.00    562959\n",
      "weighted avg       1.00      1.00      1.00    562959\n",
      "\n"
     ]
    }
   ],
   "source": [
    "rf2_classifier= RandomForestClassifier().fit(x_train_sam, y_train_sam)\n",
    "prediction6=rf2_classifier.predict(x_test_sam)\n",
    "print(accuracy_score(y_test_sam, prediction6))\n",
    "print(confusion_matrix(y_test_sam, prediction6))\n",
    "print(classification_report(y_test_sam, prediction6))"
   ]
  },
  {
   "cell_type": "code",
   "execution_count": null,
   "metadata": {},
   "outputs": [],
   "source": []
  }
 ],
 "metadata": {
  "kernelspec": {
   "display_name": "Python 3 (ipykernel)",
   "language": "python",
   "name": "python3"
  },
  "language_info": {
   "codemirror_mode": {
    "name": "ipython",
    "version": 3
   },
   "file_extension": ".py",
   "mimetype": "text/x-python",
   "name": "python",
   "nbconvert_exporter": "python",
   "pygments_lexer": "ipython3",
   "version": "3.9.12"
  }
 },
 "nbformat": 4,
 "nbformat_minor": 4
}
